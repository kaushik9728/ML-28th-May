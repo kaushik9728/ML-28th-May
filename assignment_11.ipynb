{
  "nbformat": 4,
  "nbformat_minor": 0,
  "metadata": {
    "colab": {
      "name": "Untitled7.ipynb",
      "version": "0.3.2",
      "provenance": [],
      "collapsed_sections": []
    }
  },
  "cells": [
    {
      "cell_type": "markdown",
      "metadata": {
        "id": "view-in-github",
        "colab_type": "text"
      },
      "source": [
        "[View in Colaboratory](https://colab.research.google.com/github/kaushik9728/ML-28th-May/blob/master/assignment_11.ipynb)"
      ]
    },
    {
      "metadata": {
        "id": "QPXKL6ZMZeHH",
        "colab_type": "code",
        "colab": {}
      },
      "cell_type": "code",
      "source": [
        "import numpy as np\n",
        "import pandas as pd\n",
        "import seaborn as sns\n",
        "import matplotlib.pyplot as plt"
      ],
      "execution_count": 0,
      "outputs": []
    },
    {
      "metadata": {
        "id": "mVaSLQYHZleI",
        "colab_type": "code",
        "colab": {}
      },
      "cell_type": "code",
      "source": [
        "df_train=pd.read_csv('https://raw.githubusercontent.com/Shreyas3108/Titanic-EDA-and-Survival-prediction/master/train.csv')"
      ],
      "execution_count": 0,
      "outputs": []
    },
    {
      "metadata": {
        "id": "H4nDy_zLZtFZ",
        "colab_type": "code",
        "colab": {}
      },
      "cell_type": "code",
      "source": [
        "df_test=pd.read_csv('https://raw.githubusercontent.com/Shreyas3108/Titanic-EDA-and-Survival-prediction/master/test.csv')"
      ],
      "execution_count": 0,
      "outputs": []
    },
    {
      "metadata": {
        "id": "UpD9TeE2Z-2S",
        "colab_type": "code",
        "colab": {}
      },
      "cell_type": "code",
      "source": [
        "from sklearn.datasets import load_digits\n",
        "digits=load_digits()"
      ],
      "execution_count": 0,
      "outputs": []
    },
    {
      "metadata": {
        "id": "CUM4Y7RmaSDJ",
        "colab_type": "code",
        "colab": {}
      },
      "cell_type": "code",
      "source": [
        "df=pd.concat([df_train,df_test])"
      ],
      "execution_count": 0,
      "outputs": []
    },
    {
      "metadata": {
        "id": "itYFN9nQdIso",
        "colab_type": "code",
        "colab": {
          "base_uri": "https://localhost:8080/",
          "height": 204
        },
        "outputId": "ce8f97d9-5fea-481b-e00d-b562377b3f5b"
      },
      "cell_type": "code",
      "source": [
        "df.head()"
      ],
      "execution_count": 15,
      "outputs": [
        {
          "output_type": "execute_result",
          "data": {
            "text/html": [
              "<div>\n",
              "<style scoped>\n",
              "    .dataframe tbody tr th:only-of-type {\n",
              "        vertical-align: middle;\n",
              "    }\n",
              "\n",
              "    .dataframe tbody tr th {\n",
              "        vertical-align: top;\n",
              "    }\n",
              "\n",
              "    .dataframe thead th {\n",
              "        text-align: right;\n",
              "    }\n",
              "</style>\n",
              "<table border=\"1\" class=\"dataframe\">\n",
              "  <thead>\n",
              "    <tr style=\"text-align: right;\">\n",
              "      <th></th>\n",
              "      <th>Age</th>\n",
              "      <th>Cabin</th>\n",
              "      <th>Embarked</th>\n",
              "      <th>Fare</th>\n",
              "      <th>Name</th>\n",
              "      <th>Parch</th>\n",
              "      <th>PassengerId</th>\n",
              "      <th>Pclass</th>\n",
              "      <th>Sex</th>\n",
              "      <th>SibSp</th>\n",
              "      <th>Survived</th>\n",
              "      <th>Ticket</th>\n",
              "    </tr>\n",
              "  </thead>\n",
              "  <tbody>\n",
              "    <tr>\n",
              "      <th>0</th>\n",
              "      <td>22.0</td>\n",
              "      <td>NaN</td>\n",
              "      <td>S</td>\n",
              "      <td>7.2500</td>\n",
              "      <td>Braund, Mr. Owen Harris</td>\n",
              "      <td>0</td>\n",
              "      <td>1</td>\n",
              "      <td>3</td>\n",
              "      <td>male</td>\n",
              "      <td>1</td>\n",
              "      <td>0.0</td>\n",
              "      <td>A/5 21171</td>\n",
              "    </tr>\n",
              "    <tr>\n",
              "      <th>1</th>\n",
              "      <td>38.0</td>\n",
              "      <td>C85</td>\n",
              "      <td>C</td>\n",
              "      <td>71.2833</td>\n",
              "      <td>Cumings, Mrs. John Bradley (Florence Briggs Th...</td>\n",
              "      <td>0</td>\n",
              "      <td>2</td>\n",
              "      <td>1</td>\n",
              "      <td>female</td>\n",
              "      <td>1</td>\n",
              "      <td>1.0</td>\n",
              "      <td>PC 17599</td>\n",
              "    </tr>\n",
              "    <tr>\n",
              "      <th>2</th>\n",
              "      <td>26.0</td>\n",
              "      <td>NaN</td>\n",
              "      <td>S</td>\n",
              "      <td>7.9250</td>\n",
              "      <td>Heikkinen, Miss. Laina</td>\n",
              "      <td>0</td>\n",
              "      <td>3</td>\n",
              "      <td>3</td>\n",
              "      <td>female</td>\n",
              "      <td>0</td>\n",
              "      <td>1.0</td>\n",
              "      <td>STON/O2. 3101282</td>\n",
              "    </tr>\n",
              "    <tr>\n",
              "      <th>3</th>\n",
              "      <td>35.0</td>\n",
              "      <td>C123</td>\n",
              "      <td>S</td>\n",
              "      <td>53.1000</td>\n",
              "      <td>Futrelle, Mrs. Jacques Heath (Lily May Peel)</td>\n",
              "      <td>0</td>\n",
              "      <td>4</td>\n",
              "      <td>1</td>\n",
              "      <td>female</td>\n",
              "      <td>1</td>\n",
              "      <td>1.0</td>\n",
              "      <td>113803</td>\n",
              "    </tr>\n",
              "    <tr>\n",
              "      <th>4</th>\n",
              "      <td>35.0</td>\n",
              "      <td>NaN</td>\n",
              "      <td>S</td>\n",
              "      <td>8.0500</td>\n",
              "      <td>Allen, Mr. William Henry</td>\n",
              "      <td>0</td>\n",
              "      <td>5</td>\n",
              "      <td>3</td>\n",
              "      <td>male</td>\n",
              "      <td>0</td>\n",
              "      <td>0.0</td>\n",
              "      <td>373450</td>\n",
              "    </tr>\n",
              "  </tbody>\n",
              "</table>\n",
              "</div>"
            ],
            "text/plain": [
              "    Age Cabin Embarked     Fare  \\\n",
              "0  22.0   NaN        S   7.2500   \n",
              "1  38.0   C85        C  71.2833   \n",
              "2  26.0   NaN        S   7.9250   \n",
              "3  35.0  C123        S  53.1000   \n",
              "4  35.0   NaN        S   8.0500   \n",
              "\n",
              "                                                Name  Parch  PassengerId  \\\n",
              "0                            Braund, Mr. Owen Harris      0            1   \n",
              "1  Cumings, Mrs. John Bradley (Florence Briggs Th...      0            2   \n",
              "2                             Heikkinen, Miss. Laina      0            3   \n",
              "3       Futrelle, Mrs. Jacques Heath (Lily May Peel)      0            4   \n",
              "4                           Allen, Mr. William Henry      0            5   \n",
              "\n",
              "   Pclass     Sex  SibSp  Survived            Ticket  \n",
              "0       3    male      1       0.0         A/5 21171  \n",
              "1       1  female      1       1.0          PC 17599  \n",
              "2       3  female      0       1.0  STON/O2. 3101282  \n",
              "3       1  female      1       1.0            113803  \n",
              "4       3    male      0       0.0            373450  "
            ]
          },
          "metadata": {
            "tags": []
          },
          "execution_count": 15
        }
      ]
    },
    {
      "metadata": {
        "id": "ZXnDqhsDdLtw",
        "colab_type": "code",
        "colab": {}
      },
      "cell_type": "code",
      "source": [
        "df = df.dropna(subset=['Survived'])"
      ],
      "execution_count": 0,
      "outputs": []
    },
    {
      "metadata": {
        "id": "ebUo0aqnjYrj",
        "colab_type": "code",
        "colab": {
          "base_uri": "https://localhost:8080/",
          "height": 34
        },
        "outputId": "8ac4fd67-0351-4b6d-9fc4-4c2c942bc0c8"
      },
      "cell_type": "code",
      "source": [
        "df.shape"
      ],
      "execution_count": 30,
      "outputs": [
        {
          "output_type": "execute_result",
          "data": {
            "text/plain": [
              "(891, 13)"
            ]
          },
          "metadata": {
            "tags": []
          },
          "execution_count": 30
        }
      ]
    },
    {
      "metadata": {
        "id": "FXFjGC9Nd-2r",
        "colab_type": "code",
        "colab": {
          "base_uri": "https://localhost:8080/",
          "height": 238
        },
        "outputId": "3bb54870-2edb-491d-db53-1de72b5e911c"
      },
      "cell_type": "code",
      "source": [
        "print(df.isnull().sum())"
      ],
      "execution_count": 17,
      "outputs": [
        {
          "output_type": "stream",
          "text": [
            "Age            177\n",
            "Cabin          687\n",
            "Embarked         2\n",
            "Fare             0\n",
            "Name             0\n",
            "Parch            0\n",
            "PassengerId      0\n",
            "Pclass           0\n",
            "Sex              0\n",
            "SibSp            0\n",
            "Survived         0\n",
            "Ticket           0\n",
            "dtype: int64\n"
          ],
          "name": "stdout"
        }
      ]
    },
    {
      "metadata": {
        "id": "f408evEAeF0y",
        "colab_type": "code",
        "colab": {}
      },
      "cell_type": "code",
      "source": [
        "def Has_Cabin(col):\n",
        "  if pd.isnull(col):\n",
        "    return 0\n",
        "  else:\n",
        "    return 1\n",
        "  "
      ],
      "execution_count": 0,
      "outputs": []
    },
    {
      "metadata": {
        "id": "eB6bF6GMf4Ic",
        "colab_type": "code",
        "colab": {
          "base_uri": "https://localhost:8080/",
          "height": 119
        },
        "outputId": "938f5b12-0c26-4e33-e0e7-473c1ead7f05"
      },
      "cell_type": "code",
      "source": [
        "df['Has_Cabin'].head(5)"
      ],
      "execution_count": 32,
      "outputs": [
        {
          "output_type": "execute_result",
          "data": {
            "text/plain": [
              "0    0\n",
              "1    0\n",
              "2    0\n",
              "3    0\n",
              "4    0\n",
              "Name: Has_Cabin, dtype: int64"
            ]
          },
          "metadata": {
            "tags": []
          },
          "execution_count": 32
        }
      ]
    },
    {
      "metadata": {
        "id": "krPpz7hgf9dz",
        "colab_type": "code",
        "colab": {
          "base_uri": "https://localhost:8080/",
          "height": 204
        },
        "outputId": "89f905db-a2d4-48f6-d5e0-0ffc0dd2a5f5"
      },
      "cell_type": "code",
      "source": [
        "df.head()"
      ],
      "execution_count": 34,
      "outputs": [
        {
          "output_type": "execute_result",
          "data": {
            "text/html": [
              "<div>\n",
              "<style scoped>\n",
              "    .dataframe tbody tr th:only-of-type {\n",
              "        vertical-align: middle;\n",
              "    }\n",
              "\n",
              "    .dataframe tbody tr th {\n",
              "        vertical-align: top;\n",
              "    }\n",
              "\n",
              "    .dataframe thead th {\n",
              "        text-align: right;\n",
              "    }\n",
              "</style>\n",
              "<table border=\"1\" class=\"dataframe\">\n",
              "  <thead>\n",
              "    <tr style=\"text-align: right;\">\n",
              "      <th></th>\n",
              "      <th>Age</th>\n",
              "      <th>Cabin</th>\n",
              "      <th>Embarked</th>\n",
              "      <th>Fare</th>\n",
              "      <th>Name</th>\n",
              "      <th>Parch</th>\n",
              "      <th>PassengerId</th>\n",
              "      <th>Pclass</th>\n",
              "      <th>Sex</th>\n",
              "      <th>SibSp</th>\n",
              "      <th>Survived</th>\n",
              "      <th>Ticket</th>\n",
              "      <th>Has_Cabin</th>\n",
              "    </tr>\n",
              "  </thead>\n",
              "  <tbody>\n",
              "    <tr>\n",
              "      <th>0</th>\n",
              "      <td>22.0</td>\n",
              "      <td>NaN</td>\n",
              "      <td>S</td>\n",
              "      <td>7.2500</td>\n",
              "      <td>Braund, Mr. Owen Harris</td>\n",
              "      <td>0</td>\n",
              "      <td>1</td>\n",
              "      <td>3</td>\n",
              "      <td>male</td>\n",
              "      <td>1</td>\n",
              "      <td>0.0</td>\n",
              "      <td>A/5 21171</td>\n",
              "      <td>0</td>\n",
              "    </tr>\n",
              "    <tr>\n",
              "      <th>1</th>\n",
              "      <td>38.0</td>\n",
              "      <td>C85</td>\n",
              "      <td>C</td>\n",
              "      <td>71.2833</td>\n",
              "      <td>Cumings, Mrs. John Bradley (Florence Briggs Th...</td>\n",
              "      <td>0</td>\n",
              "      <td>2</td>\n",
              "      <td>1</td>\n",
              "      <td>female</td>\n",
              "      <td>1</td>\n",
              "      <td>1.0</td>\n",
              "      <td>PC 17599</td>\n",
              "      <td>0</td>\n",
              "    </tr>\n",
              "    <tr>\n",
              "      <th>2</th>\n",
              "      <td>26.0</td>\n",
              "      <td>NaN</td>\n",
              "      <td>S</td>\n",
              "      <td>7.9250</td>\n",
              "      <td>Heikkinen, Miss. Laina</td>\n",
              "      <td>0</td>\n",
              "      <td>3</td>\n",
              "      <td>3</td>\n",
              "      <td>female</td>\n",
              "      <td>0</td>\n",
              "      <td>1.0</td>\n",
              "      <td>STON/O2. 3101282</td>\n",
              "      <td>0</td>\n",
              "    </tr>\n",
              "    <tr>\n",
              "      <th>3</th>\n",
              "      <td>35.0</td>\n",
              "      <td>C123</td>\n",
              "      <td>S</td>\n",
              "      <td>53.1000</td>\n",
              "      <td>Futrelle, Mrs. Jacques Heath (Lily May Peel)</td>\n",
              "      <td>0</td>\n",
              "      <td>4</td>\n",
              "      <td>1</td>\n",
              "      <td>female</td>\n",
              "      <td>1</td>\n",
              "      <td>1.0</td>\n",
              "      <td>113803</td>\n",
              "      <td>0</td>\n",
              "    </tr>\n",
              "    <tr>\n",
              "      <th>4</th>\n",
              "      <td>35.0</td>\n",
              "      <td>NaN</td>\n",
              "      <td>S</td>\n",
              "      <td>8.0500</td>\n",
              "      <td>Allen, Mr. William Henry</td>\n",
              "      <td>0</td>\n",
              "      <td>5</td>\n",
              "      <td>3</td>\n",
              "      <td>male</td>\n",
              "      <td>0</td>\n",
              "      <td>0.0</td>\n",
              "      <td>373450</td>\n",
              "      <td>0</td>\n",
              "    </tr>\n",
              "  </tbody>\n",
              "</table>\n",
              "</div>"
            ],
            "text/plain": [
              "    Age Cabin Embarked     Fare  \\\n",
              "0  22.0   NaN        S   7.2500   \n",
              "1  38.0   C85        C  71.2833   \n",
              "2  26.0   NaN        S   7.9250   \n",
              "3  35.0  C123        S  53.1000   \n",
              "4  35.0   NaN        S   8.0500   \n",
              "\n",
              "                                                Name  Parch  PassengerId  \\\n",
              "0                            Braund, Mr. Owen Harris      0            1   \n",
              "1  Cumings, Mrs. John Bradley (Florence Briggs Th...      0            2   \n",
              "2                             Heikkinen, Miss. Laina      0            3   \n",
              "3       Futrelle, Mrs. Jacques Heath (Lily May Peel)      0            4   \n",
              "4                           Allen, Mr. William Henry      0            5   \n",
              "\n",
              "   Pclass     Sex  SibSp  Survived            Ticket  Has_Cabin  \n",
              "0       3    male      1       0.0         A/5 21171          0  \n",
              "1       1  female      1       1.0          PC 17599          0  \n",
              "2       3  female      0       1.0  STON/O2. 3101282          0  \n",
              "3       1  female      1       1.0            113803          0  \n",
              "4       3    male      0       0.0            373450          0  "
            ]
          },
          "metadata": {
            "tags": []
          },
          "execution_count": 34
        }
      ]
    },
    {
      "metadata": {
        "id": "DskeCOwUjqtN",
        "colab_type": "code",
        "colab": {}
      },
      "cell_type": "code",
      "source": [
        "import re\n",
        "df['Title'] = df.Name.apply(lambda x: re.search(' ([A-Z][a-z]+)\\.', x).group(1))"
      ],
      "execution_count": 0,
      "outputs": []
    },
    {
      "metadata": {
        "id": "66A1EzS54Nqe",
        "colab_type": "code",
        "colab": {}
      },
      "cell_type": "code",
      "source": [
        "df['Title'] = df['Title'].replace({'Mlle':'Miss', 'Mme':'Mrs', 'Ms':'Miss'})\n",
        "df['Title'] = df['Title'].replace(['Don', 'Dona', 'Rev', 'Dr','Major', 'Lady', 'Sir', 'Col', 'Capt', 'Countess', 'Jonkheer'],'Special')"
      ],
      "execution_count": 0,
      "outputs": []
    },
    {
      "metadata": {
        "id": "rnOWTecu4XtY",
        "colab_type": "code",
        "colab": {
          "base_uri": "https://localhost:8080/",
          "height": 68
        },
        "outputId": "5703950e-4efe-4c71-f9a9-08b19821c637"
      },
      "cell_type": "code",
      "source": [
        "for i in range(1,4):\n",
        "    print('Average passenger age of class '+str(i)+': '+str(df[df['Pclass']==i]['Age'].mean()))"
      ],
      "execution_count": 37,
      "outputs": [
        {
          "output_type": "stream",
          "text": [
            "Average passenger age of class 1: 38.233440860215055\n",
            "Average passenger age of class 2: 29.87763005780347\n",
            "Average passenger age of class 3: 25.14061971830986\n"
          ],
          "name": "stdout"
        }
      ]
    },
    {
      "metadata": {
        "id": "FQ0Quqn25XVL",
        "colab_type": "code",
        "colab": {}
      },
      "cell_type": "code",
      "source": [
        "def imputeAge(cols):\n",
        "    Age = cols[0]\n",
        "    Pclass = cols[1]\n",
        "    \n",
        "    if pd.isnull(Age):\n",
        "        if Pclass == 1:\n",
        "            return 39\n",
        "        elif Pclass == 2:\n",
        "            return 30\n",
        "        else:\n",
        "            return 25\n",
        "    else:\n",
        "        return Age"
      ],
      "execution_count": 0,
      "outputs": []
    },
    {
      "metadata": {
        "id": "ZrbSQV_M50AU",
        "colab_type": "code",
        "colab": {}
      },
      "cell_type": "code",
      "source": [
        "df['Age'] = df[['Age', 'Pclass']].apply(imputeAge, axis=1)"
      ],
      "execution_count": 0,
      "outputs": []
    },
    {
      "metadata": {
        "id": "lgcRj9hf53zJ",
        "colab_type": "code",
        "colab": {}
      },
      "cell_type": "code",
      "source": [
        "df['Fare'] = df['Fare'].fillna(df['Fare'].mean())"
      ],
      "execution_count": 0,
      "outputs": []
    },
    {
      "metadata": {
        "id": "mDMccXUs7F9B",
        "colab_type": "code",
        "colab": {}
      },
      "cell_type": "code",
      "source": [
        "df['Categorical_age'] = pd.qcut(df['Age'], 4, labels=[1, 2, 3, 4])"
      ],
      "execution_count": 0,
      "outputs": []
    },
    {
      "metadata": {
        "id": "79cdZ0Wg7Jxd",
        "colab_type": "code",
        "colab": {}
      },
      "cell_type": "code",
      "source": [
        "df['Categorical_fare'] = pd.qcut(df['Fare'], 4, labels=[1, 2, 3, 4])"
      ],
      "execution_count": 0,
      "outputs": []
    },
    {
      "metadata": {
        "id": "G49iiJBm7NNA",
        "colab_type": "code",
        "colab": {}
      },
      "cell_type": "code",
      "source": [
        "sex = pd.get_dummies(df['Sex'], drop_first=True)"
      ],
      "execution_count": 0,
      "outputs": []
    },
    {
      "metadata": {
        "id": "phFBuONz7y-B",
        "colab_type": "text"
      },
      "cell_type": "markdown",
      "source": [
        "get_dummies function is to convert categorical columns, Sex and Embarked into numeric ones.\n",
        "\n",
        "For Sex column, we will now create a dummy column containing 0 and 1, where 1 is for male and 0 is for female\n",
        "\n",
        "For Embarked column, we will create two dummy columns Q and S both containing 0 and 1:\n",
        "\n",
        "where Q=1 denotes Queenstown, S=1 denotes Southampton, Q=0 and S=0 denotes Cherbourg"
      ]
    },
    {
      "metadata": {
        "id": "mAdHtkEc7xyF",
        "colab_type": "code",
        "colab": {}
      },
      "cell_type": "code",
      "source": [
        "embark = pd.get_dummies(df['Embarked'], drop_first=True)"
      ],
      "execution_count": 0,
      "outputs": []
    },
    {
      "metadata": {
        "id": "-dMvPi3J8LmR",
        "colab_type": "code",
        "colab": {}
      },
      "cell_type": "code",
      "source": [
        "df = pd.concat([df, sex, embark], axis=1)"
      ],
      "execution_count": 0,
      "outputs": []
    },
    {
      "metadata": {
        "id": "-XuJvBwh8YUv",
        "colab_type": "code",
        "colab": {}
      },
      "cell_type": "code",
      "source": [
        "df.drop(['Cabin', 'Name', 'PassengerId', 'Ticket', 'Age', 'Fare', 'SibSp', 'Parch', 'Title', 'Sex', 'Embarked'], axis=1, inplace=True)"
      ],
      "execution_count": 0,
      "outputs": []
    },
    {
      "metadata": {
        "id": "HHWxqXlY8cRJ",
        "colab_type": "code",
        "colab": {}
      },
      "cell_type": "code",
      "source": [
        "df.dropna(inplace=True)"
      ],
      "execution_count": 0,
      "outputs": []
    },
    {
      "metadata": {
        "id": "n6Z55kcl8vV7",
        "colab_type": "code",
        "colab": {
          "base_uri": "https://localhost:8080/",
          "height": 238
        },
        "outputId": "5027d53e-434f-4962-97f5-92169c89abc3"
      },
      "cell_type": "code",
      "source": [
        "X_train = df[0:891]\n",
        "X_train.info()"
      ],
      "execution_count": 50,
      "outputs": [
        {
          "output_type": "stream",
          "text": [
            "<class 'pandas.core.frame.DataFrame'>\n",
            "Int64Index: 891 entries, 0 to 890\n",
            "Data columns (total 8 columns):\n",
            "Pclass              891 non-null int64\n",
            "Survived            891 non-null float64\n",
            "Has_Cabin           891 non-null int64\n",
            "Categorical_age     891 non-null category\n",
            "Categorical_fare    891 non-null category\n",
            "male                891 non-null uint8\n",
            "Q                   891 non-null uint8\n",
            "S                   891 non-null uint8\n",
            "dtypes: category(2), float64(1), int64(2), uint8(3)\n",
            "memory usage: 32.6 KB\n"
          ],
          "name": "stdout"
        }
      ]
    },
    {
      "metadata": {
        "id": "r1N99e8p8zsV",
        "colab_type": "code",
        "colab": {
          "base_uri": "https://localhost:8080/",
          "height": 238
        },
        "outputId": "bdc534f9-692d-4985-93a0-1a00823bd0ba"
      },
      "cell_type": "code",
      "source": [
        "X_test = df[891:]\n",
        "X_test.info()"
      ],
      "execution_count": 51,
      "outputs": [
        {
          "output_type": "stream",
          "text": [
            "<class 'pandas.core.frame.DataFrame'>\n",
            "Int64Index: 0 entries\n",
            "Data columns (total 8 columns):\n",
            "Pclass              0 non-null int64\n",
            "Survived            0 non-null float64\n",
            "Has_Cabin           0 non-null int64\n",
            "Categorical_age     0 non-null category\n",
            "Categorical_fare    0 non-null category\n",
            "male                0 non-null uint8\n",
            "Q                   0 non-null uint8\n",
            "S                   0 non-null uint8\n",
            "dtypes: category(2), float64(1), int64(2), uint8(3)\n",
            "memory usage: 384.0 bytes\n"
          ],
          "name": "stdout"
        }
      ]
    },
    {
      "metadata": {
        "id": "rtN8UcR_863u",
        "colab_type": "code",
        "colab": {}
      },
      "cell_type": "code",
      "source": [
        "y_train = df_train['Survived']"
      ],
      "execution_count": 0,
      "outputs": []
    },
    {
      "metadata": {
        "id": "j8tPZKuQ9D5y",
        "colab_type": "code",
        "colab": {}
      },
      "cell_type": "code",
      "source": [
        "from sklearn.linear_model import LogisticRegression"
      ],
      "execution_count": 0,
      "outputs": []
    },
    {
      "metadata": {
        "id": "OFVE2_kL-tYs",
        "colab_type": "code",
        "colab": {}
      },
      "cell_type": "code",
      "source": [
        "log = LogisticRegression()"
      ],
      "execution_count": 0,
      "outputs": []
    },
    {
      "metadata": {
        "id": "wCcV2cVM-5uX",
        "colab_type": "code",
        "colab": {
          "base_uri": "https://localhost:8080/",
          "height": 85
        },
        "outputId": "34b55cda-778f-46a3-bbd8-289e2d3479e1"
      },
      "cell_type": "code",
      "source": [
        "log.fit(X_train, y_train)"
      ],
      "execution_count": 55,
      "outputs": [
        {
          "output_type": "execute_result",
          "data": {
            "text/plain": [
              "LogisticRegression(C=1.0, class_weight=None, dual=False, fit_intercept=True,\n",
              "          intercept_scaling=1, max_iter=100, multi_class='ovr', n_jobs=1,\n",
              "          penalty='l2', random_state=None, solver='liblinear', tol=0.0001,\n",
              "          verbose=0, warm_start=False)"
            ]
          },
          "metadata": {
            "tags": []
          },
          "execution_count": 55
        }
      ]
    },
    {
      "metadata": {
        "id": "rbM338D4-8Zs",
        "colab_type": "code",
        "colab": {}
      },
      "cell_type": "code",
      "source": [
        ""
      ],
      "execution_count": 0,
      "outputs": []
    },
    {
      "metadata": {
        "id": "oN4gBeN2_Byt",
        "colab_type": "code",
        "colab": {}
      },
      "cell_type": "code",
      "source": [
        ""
      ],
      "execution_count": 0,
      "outputs": []
    }
  ]
}