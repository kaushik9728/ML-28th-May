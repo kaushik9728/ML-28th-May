{
  "nbformat": 4,
  "nbformat_minor": 0,
  "metadata": {
    "colab": {
      "name": "Untitled20.ipynb",
      "version": "0.3.2",
      "provenance": [],
      "include_colab_link": true
    }
  },
  "cells": [
    {
      "cell_type": "markdown",
      "metadata": {
        "id": "view-in-github",
        "colab_type": "text"
      },
      "source": [
        "[View in Colaboratory](https://colab.research.google.com/github/kaushik9728/ML-AcadviewCourse/blob/master/deep_learning.ipynb)"
      ]
    },
    {
      "metadata": {
        "id": "zjnIMFJNhyY4",
        "colab_type": "text"
      },
      "cell_type": "markdown",
      "source": [
        "# question 1"
      ]
    },
    {
      "metadata": {
        "id": "Z5_DABSdhXVa",
        "colab_type": "code",
        "colab": {
          "base_uri": "https://localhost:8080/",
          "height": 34
        },
        "outputId": "3d110e13-f81c-482a-d23f-a5efff74fe44"
      },
      "cell_type": "code",
      "source": [
        "print('F = (a-1)(b+c)')"
      ],
      "execution_count": 2,
      "outputs": [
        {
          "output_type": "stream",
          "text": [
            "F = (a-1)(b+c)\n"
          ],
          "name": "stdout"
        }
      ]
    },
    {
      "metadata": {
        "id": "oZzu5qFmh6eW",
        "colab_type": "text"
      },
      "cell_type": "markdown",
      "source": [
        "#question 2"
      ]
    },
    {
      "metadata": {
        "id": "yXH_fuSmh3q2",
        "colab_type": "code",
        "colab": {}
      },
      "cell_type": "code",
      "source": [
        "x1 = -0.06\n",
        "x2 = -2.5\n",
        "x3 = 1.4"
      ],
      "execution_count": 0,
      "outputs": []
    },
    {
      "metadata": {
        "id": "GBO_bj5vjlop",
        "colab_type": "code",
        "colab": {}
      },
      "cell_type": "code",
      "source": [
        "w1 = 2.7\n",
        "w2 = -8.6\n",
        "w3 = 0.002"
      ],
      "execution_count": 0,
      "outputs": []
    },
    {
      "metadata": {
        "id": "eyVoE6fzjoCS",
        "colab_type": "code",
        "colab": {}
      },
      "cell_type": "code",
      "source": [
        "X = (w1*x1) + (w2*x2) +(w3*x3)"
      ],
      "execution_count": 0,
      "outputs": []
    },
    {
      "metadata": {
        "id": "zcUko1UXjrot",
        "colab_type": "code",
        "colab": {}
      },
      "cell_type": "code",
      "source": [
        "import math"
      ],
      "execution_count": 0,
      "outputs": []
    },
    {
      "metadata": {
        "id": "JThwyIjkjymB",
        "colab_type": "code",
        "colab": {}
      },
      "cell_type": "code",
      "source": [
        "f_X = 1 / (1 + math.exp(-X))"
      ],
      "execution_count": 0,
      "outputs": []
    },
    {
      "metadata": {
        "id": "iSrvq2_oj2-Q",
        "colab_type": "code",
        "colab": {
          "base_uri": "https://localhost:8080/",
          "height": 34
        },
        "outputId": "947d1c70-454a-4767-b1a5-db34a242a8a7"
      },
      "cell_type": "code",
      "source": [
        "print(f_X)"
      ],
      "execution_count": 10,
      "outputs": [
        {
          "output_type": "stream",
          "text": [
            "0.999999999461\n"
          ],
          "name": "stdout"
        }
      ]
    },
    {
      "metadata": {
        "id": "YT-aM7mHj5uM",
        "colab_type": "code",
        "colab": {}
      },
      "cell_type": "code",
      "source": [
        "bias = -1.1"
      ],
      "execution_count": 0,
      "outputs": []
    },
    {
      "metadata": {
        "id": "NUfThqVuj8OH",
        "colab_type": "code",
        "colab": {}
      },
      "cell_type": "code",
      "source": [
        "newX = X + bias"
      ],
      "execution_count": 0,
      "outputs": []
    },
    {
      "metadata": {
        "id": "Cp34Ji1rkBF3",
        "colab_type": "code",
        "colab": {}
      },
      "cell_type": "code",
      "source": [
        "newf_X = 1 / (1 + math.exp(-newX))"
      ],
      "execution_count": 0,
      "outputs": []
    },
    {
      "metadata": {
        "id": "cTOPfeT1kDoU",
        "colab_type": "code",
        "colab": {
          "base_uri": "https://localhost:8080/",
          "height": 34
        },
        "outputId": "9166b299-6f6b-4f9b-ea2b-b4d08e2aabe5"
      },
      "cell_type": "code",
      "source": [
        "print(newf_X)"
      ],
      "execution_count": 14,
      "outputs": [
        {
          "output_type": "stream",
          "text": [
            "0.99999999838\n"
          ],
          "name": "stdout"
        }
      ]
    },
    {
      "metadata": {
        "id": "7Rg02neOkSRr",
        "colab_type": "text"
      },
      "cell_type": "markdown",
      "source": [
        "**bias does not affect much as it is just -1.1**"
      ]
    },
    {
      "metadata": {
        "id": "vZ6LrwG-kccO",
        "colab_type": "text"
      },
      "cell_type": "markdown",
      "source": [
        "# Bias"
      ]
    },
    {
      "metadata": {
        "id": "z37hzjxPkgEB",
        "colab_type": "text"
      },
      "cell_type": "markdown",
      "source": [
        "It can be considered as negative threshold. A bias can be thought of as ease to get the output 1 from activation function. Bigger the bias value, easier it is to get 1 output, but if the bias is very negative it's very difficult."
      ]
    }
  ]
}