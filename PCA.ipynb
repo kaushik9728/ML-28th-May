{
  "nbformat": 4,
  "nbformat_minor": 0,
  "metadata": {
    "colab": {
      "name": "Untitled12.ipynb",
      "version": "0.3.2",
      "provenance": [],
      "include_colab_link": true
    }
  },
  "cells": [
    {
      "cell_type": "markdown",
      "metadata": {
        "id": "view-in-github",
        "colab_type": "text"
      },
      "source": [
        "[View in Colaboratory](https://colab.research.google.com/github/kaushik9728/ML-28th-May/blob/master/PCA.ipynb)"
      ]
    },
    {
      "metadata": {
        "id": "fnUF68A-uK0Q",
        "colab_type": "text"
      },
      "cell_type": "markdown",
      "source": [
        "## We Will Perform Principle Component Analysis on The MNIST analysis"
      ]
    },
    {
      "metadata": {
        "id": "wXKiHdo_ufc3",
        "colab_type": "text"
      },
      "cell_type": "markdown",
      "source": [
        " scikit-learn library comes with a few small datasets that do not require to download from any external website. and MNIST is one of them"
      ]
    },
    {
      "metadata": {
        "id": "jFoB8C9ku2wW",
        "colab_type": "text"
      },
      "cell_type": "markdown",
      "source": [
        "**Imports**"
      ]
    },
    {
      "metadata": {
        "id": "opGXx_6xuBI7",
        "colab_type": "code",
        "colab": {}
      },
      "cell_type": "code",
      "source": [
        "import numpy as np\n",
        "import pandas as pd\n",
        "import seaborn as sns\n",
        "import matplotlib.pyplot as plt\n",
        "%matplotlib inline"
      ],
      "execution_count": 0,
      "outputs": []
    },
    {
      "metadata": {
        "id": "kNEevwUewU8n",
        "colab_type": "text"
      },
      "cell_type": "markdown",
      "source": [
        "## This Code Will Load The Digits Dataset"
      ]
    },
    {
      "metadata": {
        "id": "j6FJgBQbuVg0",
        "colab_type": "code",
        "colab": {}
      },
      "cell_type": "code",
      "source": [
        "from sklearn.datasets import load_digits"
      ],
      "execution_count": 0,
      "outputs": []
    },
    {
      "metadata": {
        "id": "rMajft28wC6-",
        "colab_type": "code",
        "colab": {}
      },
      "cell_type": "code",
      "source": [
        "digits=load_digits()"
      ],
      "execution_count": 0,
      "outputs": []
    },
    {
      "metadata": {
        "id": "BqK6OvXwwlUv",
        "colab_type": "text"
      },
      "cell_type": "markdown",
      "source": [
        "*We'll store features ( 8 x 8 pixel information of each handwritten digit image) into X, a numpy array and target (denoting the digit) into y, also a numpy array*"
      ]
    },
    {
      "metadata": {
        "id": "FUdeiJJYwMkv",
        "colab_type": "code",
        "colab": {}
      },
      "cell_type": "code",
      "source": [
        "X = digits.data"
      ],
      "execution_count": 0,
      "outputs": []
    },
    {
      "metadata": {
        "id": "J0Ebt4_JwwGx",
        "colab_type": "code",
        "colab": {}
      },
      "cell_type": "code",
      "source": [
        "y = digits.target"
      ],
      "execution_count": 0,
      "outputs": []
    },
    {
      "metadata": {
        "id": "CEIzgSX9wyWz",
        "colab_type": "code",
        "colab": {
          "base_uri": "https://localhost:8080/",
          "height": 51
        },
        "outputId": "d9f5755b-1216-495b-b09e-9c4504aaacb2"
      },
      "cell_type": "code",
      "source": [
        "print(X.shape)\n",
        "print(y.shape)"
      ],
      "execution_count": 7,
      "outputs": [
        {
          "output_type": "stream",
          "text": [
            "(1797, 64)\n",
            "(1797,)\n"
          ],
          "name": "stdout"
        }
      ]
    },
    {
      "metadata": {
        "id": "H5DOiqGjw7AF",
        "colab_type": "text"
      },
      "cell_type": "markdown",
      "source": [
        "**Now We Will Print Some Images  Of The Digits Stored Under data.images[] **"
      ]
    },
    {
      "metadata": {
        "id": "qhp_kVyFw1Io",
        "colab_type": "code",
        "colab": {
          "base_uri": "https://localhost:8080/",
          "height": 288
        },
        "outputId": "ec926cb5-f56d-4156-c314-cfd48fe725e2"
      },
      "cell_type": "code",
      "source": [
        "plt.gray()\n",
        "plt.matshow(digits.images[7])\n",
        "plt.show()"
      ],
      "execution_count": 8,
      "outputs": [
        {
          "output_type": "display_data",
          "data": {
            "text/plain": [
              "<matplotlib.figure.Figure at 0x7fcf1d068410>"
            ]
          },
          "metadata": {
            "tags": []
          }
        },
        {
          "output_type": "display_data",
          "data": {
            "image/png": "[encoded data removed]",
            "text/plain": [
              "<matplotlib.figure.Figure at 0x7fcf1d0683d0>"
            ]
          },
          "metadata": {
            "tags": []
          }
        }
      ]
    },
    {
      "metadata": {
        "id": "URpAdoLJxbDH",
        "colab_type": "code",
        "colab": {
          "base_uri": "https://localhost:8080/",
          "height": 288
        },
        "outputId": "8fcecd3e-160f-4a68-b9c7-1f4a9b2d0ce2"
      },
      "cell_type": "code",
      "source": [
        "plt.gray()\n",
        "plt.matshow(digits.images[15])\n",
        "plt.show()"
      ],
      "execution_count": 9,
      "outputs": [
        {
          "output_type": "display_data",
          "data": {
            "text/plain": [
              "<matplotlib.figure.Figure at 0x7fcf1d005dd0>"
            ]
          },
          "metadata": {
            "tags": []
          }
        },
        {
          "output_type": "display_data",
          "data": {
            "image/png": "[encoded data removed]",
            "text/plain": [
              "<matplotlib.figure.Figure at 0x7fcf1d00e1d0>"
            ]
          },
          "metadata": {
            "tags": []
          }
        }
      ]
    },
    {
      "metadata": {
        "id": "LejUFzA6xd-6",
        "colab_type": "code",
        "colab": {
          "base_uri": "https://localhost:8080/",
          "height": 288
        },
        "outputId": "8cd2a7bd-3436-4ff2-e513-bb5f7b09db0b"
      },
      "cell_type": "code",
      "source": [
        "plt.gray()\n",
        "plt.matshow(digits.images[33])\n",
        "plt.show()"
      ],
      "execution_count": 10,
      "outputs": [
        {
          "output_type": "display_data",
          "data": {
            "text/plain": [
              "<matplotlib.figure.Figure at 0x7fcf1af58350>"
            ]
          },
          "metadata": {
            "tags": []
          }
        },
        {
          "output_type": "display_data",
          "data": {
            "image/png": "[encoded data removed]",
            "text/plain": [
              "<matplotlib.figure.Figure at 0x7fcf1af58390>"
            ]
          },
          "metadata": {
            "tags": []
          }
        }
      ]
    },
    {
      "metadata": {
        "id": "DRnFbuy7xmN3",
        "colab_type": "text"
      },
      "cell_type": "markdown",
      "source": [
        "**Train Test Split**"
      ]
    },
    {
      "metadata": {
        "id": "4EjZDITLxiR6",
        "colab_type": "code",
        "colab": {}
      },
      "cell_type": "code",
      "source": [
        "from sklearn.preprocessing import StandardScaler"
      ],
      "execution_count": 0,
      "outputs": []
    },
    {
      "metadata": {
        "id": "_DROlj0S8XJf",
        "colab_type": "text"
      },
      "cell_type": "markdown",
      "source": [
        "**Standardising the features**"
      ]
    },
    {
      "metadata": {
        "id": "BRh-HzjSx0ar",
        "colab_type": "code",
        "colab": {}
      },
      "cell_type": "code",
      "source": [
        "X=StandardScaler().fit_transform(X)"
      ],
      "execution_count": 0,
      "outputs": []
    },
    {
      "metadata": {
        "id": "Ps9sfXVZyGCu",
        "colab_type": "code",
        "colab": {}
      },
      "cell_type": "code",
      "source": [
        "from sklearn.model_selection import train_test_split"
      ],
      "execution_count": 0,
      "outputs": []
    },
    {
      "metadata": {
        "id": "64iIuwyw9fPM",
        "colab_type": "code",
        "colab": {}
      },
      "cell_type": "code",
      "source": [
        "X_train,X_test,y_train,y_test=train_test_split(X,y,test_size=0.4)"
      ],
      "execution_count": 0,
      "outputs": []
    },
    {
      "metadata": {
        "id": "RYhU0m8r9oro",
        "colab_type": "code",
        "colab": {}
      },
      "cell_type": "code",
      "source": [
        "from sklearn.decomposition import PCA"
      ],
      "execution_count": 0,
      "outputs": []
    },
    {
      "metadata": {
        "id": "86bsMQOWFdQb",
        "colab_type": "code",
        "colab": {}
      },
      "cell_type": "code",
      "source": [
        "pca=PCA(n_components=.95)"
      ],
      "execution_count": 0,
      "outputs": []
    },
    {
      "metadata": {
        "id": "zxLhxlZ9GfA8",
        "colab_type": "code",
        "colab": {}
      },
      "cell_type": "code",
      "source": [
        "principalComponents=pca.fit_transform(X)"
      ],
      "execution_count": 0,
      "outputs": []
    },
    {
      "metadata": {
        "id": "iJVBdRh4GvBN",
        "colab_type": "code",
        "colab": {}
      },
      "cell_type": "code",
      "source": [
        "from sklearn.linear_model import LogisticRegression"
      ],
      "execution_count": 0,
      "outputs": []
    },
    {
      "metadata": {
        "id": "VQQNsZ_uHeFH",
        "colab_type": "code",
        "colab": {}
      },
      "cell_type": "code",
      "source": [
        "log = LogisticRegression()"
      ],
      "execution_count": 0,
      "outputs": []
    },
    {
      "metadata": {
        "id": "UHoVWLWeH-eM",
        "colab_type": "code",
        "colab": {
          "base_uri": "https://localhost:8080/",
          "height": 85
        },
        "outputId": "18d1421b-8d30-493f-d2a7-0c4589a7086a"
      },
      "cell_type": "code",
      "source": [
        "log.fit(X_train, y_train)"
      ],
      "execution_count": 22,
      "outputs": [
        {
          "output_type": "execute_result",
          "data": {
            "text/plain": [
              "LogisticRegression(C=1.0, class_weight=None, dual=False, fit_intercept=True,\n",
              "          intercept_scaling=1, max_iter=100, multi_class='ovr', n_jobs=1,\n",
              "          penalty='l2', random_state=None, solver='liblinear', tol=0.0001,\n",
              "          verbose=0, warm_start=False)"
            ]
          },
          "metadata": {
            "tags": []
          },
          "execution_count": 22
        }
      ]
    },
    {
      "metadata": {
        "id": "6UJJUwNQ8PCP",
        "colab_type": "code",
        "colab": {}
      },
      "cell_type": "code",
      "source": [
        "predictions = log.predict(X_test)"
      ],
      "execution_count": 0,
      "outputs": []
    },
    {
      "metadata": {
        "id": "3QDaZT_N8R44",
        "colab_type": "code",
        "colab": {
          "base_uri": "https://localhost:8080/",
          "height": 34
        },
        "outputId": "a1aa9047-93c7-4667-869a-a4bb48751232"
      },
      "cell_type": "code",
      "source": [
        "score = log.score(X_test, y_test)\n",
        "score"
      ],
      "execution_count": 24,
      "outputs": [
        {
          "output_type": "execute_result",
          "data": {
            "text/plain": [
              "0.9513212795549374"
            ]
          },
          "metadata": {
            "tags": []
          },
          "execution_count": 24
        }
      ]
    },
    {
      "metadata": {
        "id": "-m0HubUP8WRf",
        "colab_type": "code",
        "colab": {}
      },
      "cell_type": "code",
      "source": [
        "import sklearn.metrics as met"
      ],
      "execution_count": 0,
      "outputs": []
    },
    {
      "metadata": {
        "id": "wvASgQzA85im",
        "colab_type": "text"
      },
      "cell_type": "markdown",
      "source": [
        "**Now lets Evaluate Our Model**"
      ]
    },
    {
      "metadata": {
        "id": "mvw-zoSn8c3e",
        "colab_type": "code",
        "colab": {
          "base_uri": "https://localhost:8080/",
          "height": 34
        },
        "outputId": "d17f8ead-476e-4e5a-ae6d-aad09a38960d"
      },
      "cell_type": "code",
      "source": [
        "predprob = log.predict_proba(X_test)\n",
        "logLoss = met.log_loss(y_test, predprob)\n",
        "print('Log loss: '+str(logLoss))"
      ],
      "execution_count": 26,
      "outputs": [
        {
          "output_type": "stream",
          "text": [
            "Log loss: 0.2478509060222549\n"
          ],
          "name": "stdout"
        }
      ]
    },
    {
      "metadata": {
        "id": "CggkVNRP8lS2",
        "colab_type": "code",
        "colab": {
          "base_uri": "https://localhost:8080/",
          "height": 51
        },
        "outputId": "1c6165bd-5ed5-47fc-dcc3-5ca84f67c9d9"
      },
      "cell_type": "code",
      "source": [
        "print('Accuracy Score: ')\n",
        "met.accuracy_score(y_test, predictions)"
      ],
      "execution_count": 27,
      "outputs": [
        {
          "output_type": "stream",
          "text": [
            "Accuracy Score: \n"
          ],
          "name": "stdout"
        },
        {
          "output_type": "execute_result",
          "data": {
            "text/plain": [
              "0.9513212795549374"
            ]
          },
          "metadata": {
            "tags": []
          },
          "execution_count": 27
        }
      ]
    },
    {
      "metadata": {
        "id": "t8oQL_BN8qDO",
        "colab_type": "code",
        "colab": {
          "base_uri": "https://localhost:8080/",
          "height": 204
        },
        "outputId": "a75b4da2-647a-4665-d7fe-b10ff1370813"
      },
      "cell_type": "code",
      "source": [
        "cm = met.confusion_matrix(y_test, predictions)\n",
        "print('Confusion Matrix')\n",
        "cm"
      ],
      "execution_count": 28,
      "outputs": [
        {
          "output_type": "stream",
          "text": [
            "Confusion Matrix\n"
          ],
          "name": "stdout"
        },
        {
          "output_type": "execute_result",
          "data": {
            "text/plain": [
              "array([[73,  0,  0,  0,  0,  0,  1,  0,  1,  0],\n",
              "       [ 0, 71,  0,  1,  0,  0,  1,  0,  2,  4],\n",
              "       [ 0,  0, 71,  0,  0,  0,  0,  0,  1,  0],\n",
              "       [ 0,  0,  0, 72,  0,  0,  0,  0,  1,  0],\n",
              "       [ 0,  0,  0,  0, 75,  0,  0,  3,  0,  1],\n",
              "       [ 0,  0,  0,  0,  0, 67,  1,  1,  0,  3],\n",
              "       [ 0,  0,  0,  0,  0,  0, 75,  0,  1,  0],\n",
              "       [ 0,  0,  0,  0,  0,  0,  0, 70,  0,  2],\n",
              "       [ 0,  4,  0,  2,  0,  0,  1,  0, 52,  1],\n",
              "       [ 0,  0,  0,  0,  0,  0,  0,  2,  1, 58]])"
            ]
          },
          "metadata": {
            "tags": []
          },
          "execution_count": 28
        }
      ]
    },
    {
      "metadata": {
        "id": "gAsMWlQC8vuq",
        "colab_type": "code",
        "colab": {
          "base_uri": "https://localhost:8080/",
          "height": 289
        },
        "outputId": "d6e7d920-d5a9-4ccd-98fe-8cc40d2699ee"
      },
      "cell_type": "code",
      "source": [
        "print('Classification Report: ')\n",
        "cr = met.classification_report(y_test, predictions)\n",
        "print(cr)"
      ],
      "execution_count": 29,
      "outputs": [
        {
          "output_type": "stream",
          "text": [
            "Classification Report: \n",
            "             precision    recall  f1-score   support\n",
            "\n",
            "          0       1.00      0.97      0.99        75\n",
            "          1       0.95      0.90      0.92        79\n",
            "          2       1.00      0.99      0.99        72\n",
            "          3       0.96      0.99      0.97        73\n",
            "          4       1.00      0.95      0.97        79\n",
            "          5       1.00      0.93      0.96        72\n",
            "          6       0.95      0.99      0.97        76\n",
            "          7       0.92      0.97      0.95        72\n",
            "          8       0.88      0.87      0.87        60\n",
            "          9       0.84      0.95      0.89        61\n",
            "\n",
            "avg / total       0.95      0.95      0.95       719\n",
            "\n"
          ],
          "name": "stdout"
        }
      ]
    },
    {
      "metadata": {
        "id": "FYQaQNLz80YO",
        "colab_type": "code",
        "colab": {}
      },
      "cell_type": "code",
      "source": [
        ""
      ],
      "execution_count": 0,
      "outputs": []
    }
  ]
}